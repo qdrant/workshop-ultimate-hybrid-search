{
 "cells": [
  {
   "cell_type": "markdown",
   "id": "211f4b305066cb8",
   "metadata": {},
   "source": [
    "# Hybrid search\n",
    "\n",
    "Once all the documents are already indexed, we can finally start doing our searches."
   ]
  },
  {
   "cell_type": "code",
   "execution_count": 1,
   "id": "9c8d1d63f14e4e0e",
   "metadata": {},
   "outputs": [
    {
     "data": {
      "text/plain": [
       "CountResult(count=5183)"
      ]
     },
     "execution_count": 1,
     "metadata": {},
     "output_type": "execute_result"
    }
   ],
   "source": [
    "from qdrant_client import QdrantClient, models\n",
    "\n",
    "client = QdrantClient(\"http://localhost:6333\")\n",
    "client.count(\"scifact\")"
   ]
  },
  {
   "cell_type": "code",
   "execution_count": 2,
   "id": "638b0fdc7b4aeb6f",
   "metadata": {},
   "outputs": [
    {
     "name": "stderr",
     "output_type": "stream",
     "text": [
      "\u001b[32m2024-07-18 17:28:57.253\u001b[0m | \u001b[33m\u001b[1mWARNING \u001b[0m | \u001b[36mfastembed.embedding\u001b[0m:\u001b[36m<module>\u001b[0m:\u001b[36m7\u001b[0m - \u001b[33m\u001b[1mDefaultEmbedding, FlagEmbedding, JinaEmbedding are deprecated.Use from fastembed import TextEmbedding instead.\u001b[0m\n"
     ]
    },
    {
     "data": {
      "application/vnd.jupyter.widget-view+json": {
       "model_id": "8aeff0db2baf46a1a646d6a7f2e18e22",
       "version_major": 2,
       "version_minor": 0
      },
      "text/plain": [
       "Fetching 5 files:   0%|          | 0/5 [00:00<?, ?it/s]"
      ]
     },
     "metadata": {},
     "output_type": "display_data"
    },
    {
     "data": {
      "application/vnd.jupyter.widget-view+json": {
       "model_id": "098bb9cf908d42139a5e283617ba2336",
       "version_major": 2,
       "version_minor": 0
      },
      "text/plain": [
       "Fetching 1 files:   0%|          | 0/1 [00:00<?, ?it/s]"
      ]
     },
     "metadata": {},
     "output_type": "display_data"
    },
    {
     "data": {
      "application/vnd.jupyter.widget-view+json": {
       "model_id": "5894535060454c229aa5f7e249c727cd",
       "version_major": 2,
       "version_minor": 0
      },
      "text/plain": [
       "Fetching 5 files:   0%|          | 0/5 [00:00<?, ?it/s]"
      ]
     },
     "metadata": {},
     "output_type": "display_data"
    }
   ],
   "source": [
    "from fastembed.embedding import TextEmbedding\n",
    "from fastembed.sparse.bm25 import Bm25\n",
    "from fastembed.late_interaction import LateInteractionTextEmbedding\n",
    "\n",
    "dense_embedding_model = TextEmbedding(\"sentence-transformers/all-MiniLM-L6-v2\")\n",
    "bm25_embedding_model = Bm25(\"Qdrant/bm25\")\n",
    "late_interaction_embedding_model = LateInteractionTextEmbedding(\"colbert-ir/colbertv2.0\")"
   ]
  },
  {
   "cell_type": "code",
   "execution_count": 3,
   "id": "5048bc77ea2ec3f7",
   "metadata": {},
   "outputs": [],
   "source": [
    "query_text = \"What is the impact of COVID-19 on the environment?\""
   ]
  },
  {
   "cell_type": "markdown",
   "id": "30fd870d-ef7e-443b-8a14-27ae5540fcc2",
   "metadata": {},
   "source": [
    "The new Query API of Qdrant 1.10+ unifies all the operations that might be done on a collection."
   ]
  },
  {
   "cell_type": "code",
   "execution_count": 4,
   "id": "9d82f3a93b1da702",
   "metadata": {},
   "outputs": [
    {
     "data": {
      "text/plain": [
       "QueryResponse(points=[ScoredPoint(id=13882658, version=1277, score=0.38743758, payload=None, vector=None, shard_key=None, order_value=None), ScoredPoint(id=2097256, version=808, score=0.36370263, payload=None, vector=None, shard_key=None, order_value=None), ScoredPoint(id=22401061, version=1538, score=0.3489025, payload=None, vector=None, shard_key=None, order_value=None), ScoredPoint(id=7485455, version=1049, score=0.33988652, payload=None, vector=None, shard_key=None, order_value=None), ScoredPoint(id=11936877, version=1207, score=0.3381256, payload=None, vector=None, shard_key=None, order_value=None), ScoredPoint(id=3716075, version=876, score=0.33763093, payload=None, vector=None, shard_key=None, order_value=None), ScoredPoint(id=27453479, version=1708, score=0.3360035, payload=None, vector=None, shard_key=None, order_value=None), ScoredPoint(id=25953438, version=1671, score=0.3300631, payload=None, vector=None, shard_key=None, order_value=None), ScoredPoint(id=13770184, version=1271, score=0.3296343, payload=None, vector=None, shard_key=None, order_value=None), ScoredPoint(id=27841037, version=1715, score=0.32777506, payload=None, vector=None, shard_key=None, order_value=None)])"
      ]
     },
     "execution_count": 4,
     "metadata": {},
     "output_type": "execute_result"
    }
   ],
   "source": [
    "# Please notice that we started using a brand new .query_points method.\n",
    "# Before Qdrant 1.10 we used .query method instead.\n",
    "client.query_points(\n",
    "    \"scifact\",\n",
    "    query=next(dense_embedding_model.query_embed(query_text)),\n",
    "    using=\"all-MiniLM-L6-v2\",\n",
    "    limit=10,\n",
    "    with_payload=False,\n",
    ")"
   ]
  },
  {
   "cell_type": "markdown",
   "id": "4d612328da4cec69",
   "metadata": {},
   "source": [
    "## Benchmarking\n",
    "\n",
    "BeIR SciFact isn't designed for the demo purposes, but in order to benchmark how different methods deal with the same task, we can use it as a reference. Let's load the ground truth and evaluate the performance of various search pipelines."
   ]
  },
  {
   "cell_type": "code",
   "execution_count": 5,
   "id": "d3acd3603a87c1a4",
   "metadata": {},
   "outputs": [
    {
     "data": {
      "text/plain": [
       "1109"
      ]
     },
     "execution_count": 5,
     "metadata": {},
     "output_type": "execute_result"
    }
   ],
   "source": [
    "from datasets import load_dataset\n",
    "\n",
    "queries = load_dataset(\"BeIR/scifact\", \"queries\", split=\"queries\")\n",
    "len(queries)"
   ]
  },
  {
   "cell_type": "code",
   "execution_count": 6,
   "id": "f54600bf8e72c215",
   "metadata": {},
   "outputs": [
    {
     "data": {
      "text/plain": [
       "919"
      ]
     },
     "execution_count": 6,
     "metadata": {},
     "output_type": "execute_result"
    }
   ],
   "source": [
    "query_qrels = load_dataset(\"BeIR/scifact-qrels\", split=\"train\")\n",
    "len(query_qrels)"
   ]
  },
  {
   "cell_type": "code",
   "execution_count": 7,
   "id": "a88ecf1d7eff3e17",
   "metadata": {},
   "outputs": [
    {
     "data": {
      "text/plain": [
       "{'query-id': 0, 'corpus-id': 31715818, 'score': 1}"
      ]
     },
     "execution_count": 7,
     "metadata": {},
     "output_type": "execute_result"
    }
   ],
   "source": [
    "query_qrels[0]"
   ]
  },
  {
   "cell_type": "markdown",
   "id": "41a09e6fe2dc6546",
   "metadata": {},
   "source": [
    "### Building the ground truth dataset\n",
    "\n",
    "The ground truth is a dataset of the queries with their best matches. Each of the matches needs a relevancy measure. In the simplest case that might be just binary information"
   ]
  },
  {
   "cell_type": "code",
   "execution_count": 8,
   "id": "b8f66462-7bdb-4ed0-9037-615d8979e113",
   "metadata": {},
   "outputs": [
    {
     "name": "stdout",
     "output_type": "stream",
     "text": [
      "{'query-id': 0, 'corpus-id': 31715818, 'score': 1}\n"
     ]
    }
   ],
   "source": [
    "for entry in query_qrels:\n",
    "    print(entry)\n",
    "    break"
   ]
  },
  {
   "cell_type": "code",
   "execution_count": 9,
   "id": "e2c2ba8fe89443d5",
   "metadata": {
    "scrolled": true
   },
   "outputs": [
    {
     "data": {
      "text/plain": [
       "DictType[unicode_type,DictType[[unichr x 9],int64]<iv=None>]<iv=None>({0: {31715818: 1}, 10: {32587939: 1}, 1000: {16472469: 1}, 1001: {5702790: 1}, 1002: {13639330: 1}, 1003: {14332945: 1, 4319844: 1, 4899981: 1}, 1004: {301838: 1, 2734421: 1, 3952288: 1}, 1005: {301838: 1, 2734421: 1, 3952288: 1}, 1006: {4926049: 1}, 1008: {2547636: 1}, 1009: {1982286: 1}, 1011: {9745001: 1}, 1015: {6277638: 1}, 1016: {6277638: 1}, 1018: {11603066: 1}, 1023: {16927286: 1}, 1025: {32408470: 1}, 1026: {3113630: 1}, 1027: {3113630: 1}, 1028: {13923140: 1, 11899391: 1}, 1030: {6441369: 1}, 1031: {12486491: 1}, 1032: {6836086: 1}, 1033: {6836086: 1}, 1034: {4547102: 1}, 1035: {4547102: 1}, 1036: {4547102: 1}, 1037: {16287725: 1}, 1038: {16287725: 1}, 104: {40164383: 1}, 1040: {25254425: 1, 16626264: 1}, 1042: {17421851: 1}, 1043: {17671145: 1}, 1044: {22500262: 1}, 1045: {22500262: 1}, 1046: {418246: 1, 4324278: 1, 16712164: 1}, 1047: {14706752: 1}, 1048: {12486491: 1}, 105: {36606083: 1}, 1050: {19878070: 1}, 1052: {18816720: 1}, 1053: {18816720: 1}, 1054: {10072941: 1}, 1055: {13906581: 1}, 1056: {4200695: 1}, 1058: {13027590: 1}, 106: {25515907: 1, 5151024: 1}, 1065: {20418809: 1}, 1067: {4429668: 1}, 1068: {4429668: 1}, 1069: {4200695: 1}, 1070: {25649714: 1}, 1072: {4824840: 1}, 1073: {4824840: 1}, 1074: {14658685: 1}, 1075: {14658685: 1}, 108: {6191684: 1, 22995579: 1, 23865182: 1}, 1081: {5691302: 1}, 1084: {5691302: 1}, 1085: {5691302: 1}, 1087: {39281140: 1}, 109: {4319174: 1}, 1090: {17628888: 1}, 1091: {2603304: 1}, 1096: {29638116: 1}, 1097: {26851674: 1}, 1098: {13552682: 1}, 11: {32587939: 1}, 1101: {3874000: 1}, 1102: {3874000: 1}, 1103: {3898784: 1}, 1105: {6710713: 1}, 1106: {6710713: 1}, 1109: {13770184: 1, 8582337: 1}, 111: {13513790: 1}, 1111: {1686881: 1}, 1112: {1686881: 1}, 1114: {12824568: 1}, 1115: {44048701: 1}, 1118: {23351136: 1}, 1119: {5323845: 1, 18997216: 1, 13907928: 1}, 112: {6157837: 1}, 1120: {5323845: 1, 18997216: 1, 13907928: 1}, 1125: {21009874: 1}, 1126: {21009874: 1}, 1127: {27466734: 1}, 1128: {33499189: 1, 9283422: 1}, 1133: {24142891: 1}, 1134: {33370: 1}, 1135: {33370: 1}, 1136: {33370: 1}, 1138: {6796297: 1}, 1139: {12009265: 1}, 114: {33872649: 1}, 1141: {12009265: 1}, 1142: {5260382: 1}, 1145: {10071552: 1}, 1148: {4828631: 1}, 1153: {7370282: 1}, 1156: {12584053: 1}, 1157: {12584053: 1}, 1158: {12584053: 1}, 1159: {12584053: 1}, 116: {33872649: 1}, 1161: {13048272: 1}, 1162: {15305881: 1}, 1164: {4455466: 1}, 1165: {4455466: 1}, 1166: {9889151: 1}, 1168: {8563659: 1}, 1169: {4319174: 1}, 1170: {18956141: 1}, 1171: {18956141: 1}, 1173: {7370282: 1}, 1174: {31272411: 1}, 1176: {13910150: 1}, 1177: {13910150: 1}, 1178: {31272411: 1}, 1181: {301838: 1, 2734421: 1, 39128592: 1, 3952288: 1}, 1182: {14541844: 1}, 1183: {1967017: 1}, 1184: {16737210: 1}, 1186: {7485455: 1}, 1188: {4394817: 1}, 119: {14606752: 1}, 1190: {30655442: 1}, 1193: {20532591: 1}, 1195: {26283293: 1}, 12: {33409100: 1}, 120: {14606752: 1}, 1205: {5558754: 1}, 1206: {18909530: 1}, 1208: {10284593: 1}, 1209: {4347374: 1}, 121: {31460499: 1}, 1210: {4928282: 1}, 1211: {4928282: 1}, 1212: {6493422: 1, 44724517: 1}, 1214: {6493422: 1, 14407673: 1}, 1215: {16355392: 1}, 1218: {15635366: 1}, 1219: {9393969: 1, 14864285: 1}, 122: {31460499: 1}, 1220: {13023410: 1}, 1223: {5289038: 1}, 1224: {21932050: 1, 34016987: 1}, 1227: {25641414: 1}, 1228: {25641414: 1}, 1229: {1676568: 1}, 123: {4883040: 1}, 1230: {13905670: 1}, 1231: {13905670: 1}, 1234: {13905670: 1}, 1235: {17973161: 1}, 1236: {17973161: 1}, 1237: {3654468: 1}, 1238: {3654468: 1}, 1239: {21387297: 1, 4427392: 1}, 1244: {18949516: 1}, 1246: {7662395: 1}, 1247: {5114282: 1}, 1248: {7209559: 1}, 1249: {7209559: 1}, 1253: {3321943: 1}, 1254: {16939583: 1}, 1255: {16939583: 1}, 1257: {581832: 1}, 1258: {12040627: 1}, 126: {24512064: 1}, 1260: {24341590: 1}, 1261: {13023410: 1}, 1263: {3981729: 1}, 1265: {37480103: 1}, 1268: {52072815: 1}, 1269: {13900610: 1}, 1275: {27731651: 1}, 1276: {3475317: 1}, 1284: {3578380: 1}, 1288: {4687948: 1}, 1289: {21239672: 1}, 1291: {56893404: 1}, 1293: {43329366: 1}, 1294: {2078658: 1, 30507607: 1}, 1295: {21239672: 1}, 1297: {9167230: 1}, 1300: {6421792: 1}, 1302: {12631697: 1}, 1304: {12631697: 1}, 1305: {12631697: 1}, 1306: {6000423: 1, 5836: 1}, 1307: {18231807: 1}, 1308: {18231807: 1}, 1309: {18231807: 1}, 1310: {8042158: 1}, 1311: {13763195: 1}, 1312: {24177706: 1}, 1314: {13072112: 1, 16237005: 1}, 1315: {13072112: 1, 16237005: 1}, 1322: {16284655: 1}, 1323: {19912367: 1}, 1324: {19912367: 1}, 1325: {40476126: 1}, 1327: {24241932: 1, 22194407: 1}, 1328: {3475317: 1}, 1330: {14075252: 1}, 1331: {14075252: 1}, 1333: {1649738: 1}, 1334: {13923140: 1, 13940200: 1, 11899391: 1}, 134: {4695046: 1}, 1340: {15482274: 1}, 1341: {15482274: 1}, 1342: {8148122: 1}, 1345: {9559146: 1}, 1346: {9505402: 1}, 1347: {19005293: 1}, 1348: {19005293: 1}, 1349: {5377642: 1}, 1350: {5377642: 1}, 1351: {28369117: 1}, 1353: {18816720: 1}, 1355: {5256564: 1}, 1356: {13764090: 1}, 1360: {11614737: 1}, 1361: {15488881: 1, 15058155: 1}, 1364: {8290953: 1}, 1366: {4406819: 1}, 1367: {2425364: 1}, 1371: {16256507: 1}, 1372: {21003930: 1}, 1373: {21003930: 1}, 1374: {21993510: 1}, 1375: {21993510: 1}, 1376: {3944632: 1}, 1378: {2488880: 1}, 138: {26016929: 1}, 1380: {16322674: 1, 23557241: 1, 17450673: 1}, 1381: {13481880: 1}, 1383: {17755060: 1}, 1386: {306006: 1}, 1387: {9669099: 1}, 139: {22080671: 1}, 1390: {2890952: 1}, 1391: {6766459: 1}, 1392: {6766459: 1}, 1393: {2000038: 1, 12440953: 1}, 1394: {2251426: 1}, 1397: {17717391: 1}, 1398: {17717391: 1}, 14: {641786: 1}, 1400: {14706752: 1}, 1401: {5185871: 1}, 1402: {8126244: 1}, 1403: {33370: 1, 38355793: 1}, 1404: {33370: 1, 38355793: 1}, 1405: {10504681: 1}, 1406: {2617858: 1}, 1407: {8087082: 1, 29863668: 1}, 144: {10582939: 1}, 149: {6227220: 1}, 15: {22080671: 1}, 152: {15488881: 1}, 153: {4702639: 1}, 154: {4702639: 1}, 155: {37549932: 1}, 156: {37549932: 1}, 157: {13439128: 1}, 159: {9394119: 1}, 160: {52874170: 1}, 161: {6903077: 1}, 164: {5824985: 1}, 165: {5824985: 1}, 166: {18872233: 1}, 167: {18872233: 1}, 168: {5824985: 1}, 169: {5824985: 1}, 17: {1606628: 1}, 172: {12670680: 1}, 173: {8126244: 1}, 174: {1710116: 1}, 175: {1710116: 1}, 176: {32587939: 1}, 177: {9669099: 1}, 178: {16322674: 1, 27123743: 1, 23557241: 1, 17450673: 1}, 18: {22942787: 1}, 181: {16966326: 1}, 182: {11369420: 1}, 184: {12827098: 1}, 186: {16855829: 1}, 187: {16855829: 1}, 189: {4421578: 1}, 19: {3202143: 1}, 196: {19313533: 1}, 197: {2177022: 1}, 199: {2177022: 1}, 2: {13734012: 1}, 20: {3202143: 1}, 200: {18231807: 1}, 201: {2462673: 1}, 203: {9558539: 1}, 204: {7898952: 1}, 205: {7898952: 1, 470625: 1}, 209: {32587939: 1}, 21: {41493639: 1}, 210: {13794374: 1}, 211: {13794374: 1}, 214: {13625993: 1}, 22: {6490571: 1}, 220: {19205437: 1}, 221: {19205437: 1}, 222: {19205437: 1}, 223: {2014909: 1}, 224: {6944800: 1}, 225: {6944800: 1}, 226: {6944800: 1}, 227: {26973393: 1}, 228: {4928057: 1}, 229: {56893404: 1}, 235: {4388470: 1}, 24: {3471191: 1}, 241: {2212067: 1, 10608822: 1}, 242: {2212067: 1, 10608822: 1}, 243: {8148122: 1}, 244: {21498497: 1}, 245: {8447873: 1, 3430789: 1}, 246: {8447873: 1, 3430789: 1}, 247: {13578199: 1}, 25: {2613775: 1}, 250: {1568684: 1}, 251: {1568684: 1}, 253: {37424881: 1}, 254: {37424881: 1}, 255: {5850219: 1}, 256: {5850219: 1}, 258: {22080671: 1}, 259: {8883846: 1}, 26: {32390525: 1}, 262: {14610165: 1}, 263: {11328820: 1, 30041340: 1, 14853989: 1}, 264: {11328820: 1}, 265: {2033917: 1}, 266: {22405338: 1}, 267: {5912283: 1, 31554917: 1}, 27: {32390525: 1}, 272: {11614737: 1}, 277: {14376683: 1}, 278: {14376683: 1}, 28: {12670680: 1}, 280: {25001628: 1}, 281: {4632921: 1}, 283: {1974176: 1}, 285: {5548081: 1}, 286: {4709641: 1}, 287: {4709641: 1}, 290: {15048300: 1}, 292: {15048300: 1}, 293: {10874408: 1}, 296: {4398832: 1}, 299: {39381118: 1}, 30: {24341590: 1}, 301: {3553087: 1}, 304: {14797520: 1}, 305: {14797520: 1}, 306: {7821634: 1}, 308: {7821634: 1}, 309: {7821634: 1}, 310: {6173523: 1}, 313: {6173523: 1}, 315: {3701541: 1}, 316: {712078: 1}, 317: {4506414: 1}, 32: {12428497: 1}, 323: {2014909: 1}, 325: {40349336: 1}, 326: {40349336: 1}, 330: {9505448: 1}, 331: {9505448: 1}, 332: {29023309: 1}, 333: {29023309: 1}, 334: {25079962: 1}, 335: {1780819: 1}, 336: {2097256: 1}, 337: {2097256: 1}, 339: {23349986: 1}, 34: {11705328: 1}, 340: {7098463: 1}, 341: {7098463: 1}, 342: {7873737: 1, 5884524: 1}, 345: {4394817: 1}, 346: {11902109: 1}, 347: {11902109: 1}, 349: {13497630: 1}, 35: {5152028: 1, 11705328: 1}, 351: {14658685: 1}, 352: {14658685: 1}, 355: {12800122: 1, 38380061: 1}, 356: {6144337: 1}, 357: {18111172: 1}, 358: {18111172: 1}, 361: {38587347: 1}, 363: {5386514: 1}, 364: {1550937: 1}, 365: {600437: 1}, 366: {13956305: 1}, 367: {27099731: 1}, 368: {27099731: 1}, 369: {6826100: 1}, 37: {5152028: 1, 11705328: 1}, 370: {1550937: 1}, 371: {1550937: 1}, 372: {24922825: 1}, 375: {1522647: 1}, 376: {22401061: 1}, 377: {18810195: 1}, 378: {45154987: 1, 10534299: 1, 11886686: 1, 25007443: 1, 17150648: 1}, 379: {19005293: 1}, 381: {18340282: 1}, 382: {11659421: 1}, 383: {13770184: 1}, 389: {1148122: 1}, 39: {13497630: 1}, 390: {1148122: 1}, 391: {1148122: 1}, 392: {1148122: 1}, 393: {1148122: 1}, 394: {11360768: 1}, 396: {1456068: 1}, 397: {1456068: 1}, 398: {8883846: 1}, 4: {22942787: 1}, 40: {13497630: 1}, 400: {791050: 1}, 401: {5633876: 1}, 403: {1921218: 1}, 404: {1921218: 1}, 406: {6796297: 1}, 407: {9889151: 1}, 41: {18174210: 1}, 413: {6309659: 1}, 414: {6309659: 1}, 416: {6309659: 1}, 417: {6309659: 1}, 418: {16660256: 1}, 420: {9315213: 1}, 422: {11172205: 1}, 423: {8595678: 1}, 425: {33257464: 1}, 426: {16728949: 1}, 428: {16728949: 1}, 429: {36540079: 1}, 43: {7224723: 1}, 430: {28937856: 1}, 432: {8002887: 1}, 434: {9500590: 1}, 435: {9500590: 1}, 44: {56893404: 1}, 441: {2014909: 1}, 444: {10165258: 1}, 445: {10165258: 1}, 447: {2052720: 1}, 448: {2052720: 1}, 449: {12209494: 1, 3430789: 1}, 45: {56893404: 1}, 453: {4200695: 1}, 454: {4200695: 1}, 455: {12643937: 1}, 456: {30507607: 1}, 458: {597790: 1}, 46: {380526: 1}, 461: {40096222: 1}, 463: {19736671: 1}, 466: {22544171: 1}, 469: {1410197: 1}, 47: {3512154: 1, 26996935: 1}, 470: {12685434: 1}, 472: {7185591: 1, 26330861: 1, 4414481: 1}, 473: {4373433: 1}, 474: {4373433: 1}, 479: {6325527: 1}, 480: {6325527: 1}, 481: {14706752: 1}, 482: {10991183: 1}, 483: {22703082: 1}, 484: {14637235: 1}, 485: {14637235: 1}, 486: {14637235: 1}, 487: {14637235: 1}, 488: {1780819: 1}, 489: {6625693: 1}, 490: {56893404: 1}, 492: {19583924: 1}, 493: {19583924: 1}, 494: {34873974: 1}, 495: {17077004: 1}, 498: {17077004: 1}, 499: {26064662: 1}, 500: {17930286: 1}, 504: {10883736: 1}, 505: {22703082: 1}, 506: {7433668: 1}, 509: {13980338: 1}, 515: {29564505: 1}, 52: {45638119: 1}, 523: {14803797: 1}, 524: {14803797: 1}, 526: {3863543: 1}, 529: {10546779: 1, 25413327: 1, 36651210: 1}, 530: {10546779: 1, 25413327: 1, 36651210: 1, 87610599: 1}, 531: {10546779: 1, 25413327: 1, 36651210: 1}, 537: {16056514: 1}, 541: {45154987: 1, 11886686: 1, 25007443: 1}, 542: {19688024: 1}, 545: {24221369: 1}, 547: {10648422: 1}, 548: {18199839: 1}, 55: {49556906: 1}, 550: {33499189: 1}, 553: {1471041: 1}, 555: {1049501: 1}, 557: {1049501: 1}, 559: {3475317: 1}, 562: {20101846: 1}, 563: {2867345: 1}, 564: {2867345: 1}, 565: {16120395: 1}, 566: {16120395: 1}, 568: {23418635: 1}, 570: {20333864: 1}, 571: {20333864: 1}, 572: {4447055: 1}, 573: {10300888: 1}, 574: {10300888: 1}, 576: {4468861: 1}, 579: {34139429: 1}, 58: {4709641: 1}, 580: {23460562: 1}, 582: {14260013: 1}, 584: {14260013: 1}, 585: {42291761: 1}, 588: {16999023: 1}, 590: {10984005: 1}, 591: {14682243: 1}, 592: {14682243: 1}, 594: {19675911: 1}, 595: {4824840: 1}, 6: {2613775: 1}, 60: {13899137: 1, 13901073: 1}, 600: {12258338: 1}, 601: {12258338: 1}, 602: {3701541: 1}, 603: {6540064: 1}, 606: {712078: 1}, 607: {4506414: 1}, 609: {40096222: 1}, 61: {13899137: 1, 13901073: 1}, 610: {40096222: 1}, 611: {32408470: 1}, 612: {9638032: 1}, 614: {9638032: 1}, 615: {9638032: 1}, 616: {18670: 1}, 617: {18670: 1}, 618: {6836086: 1}, 62: {32587939: 1}, 620: {2565138: 1}, 621: {1642727: 1}, 622: {17000834: 1}, 624: {20033112: 1}, 625: {20033112: 1}, 626: {16355392: 1}, 63: {40349336: 1}, 631: {5468807: 1}, 632: {5172048: 1}, 633: {5172048: 1}, 635: {1686997: 1}, 638: {25649714: 1}, 64: {40349336: 1}, 640: {6503185: 1}, 642: {13619127: 1}, 643: {15535511: 1}, 645: {12810152: 1}, 646: {12810152: 1}, 647: {15041758: 1}, 648: {15041758: 1}, 650: {12789595: 1}, 651: {9433958: 1}, 652: {9433958: 1}, 653: {24384587: 1}, 654: {57574395: 1}, 655: {57574395: 1}, 657: {8533245: 1}, 658: {5293024: 1}, 66: {14806256: 1}, 661: {37204802: 1}, 662: {37204802: 1}, 663: {22080671: 1}, 665: {12580014: 1}, 666: {4469125: 1}, 667: {6493422: 1}, 668: {6493422: 1, 25148216: 1}, 669: {6493422: 1, 25148216: 1}, 67: {21295300: 1}, 670: {5573975: 1}, 671: {5573975: 1}, 672: {15635366: 1}, 673: {2095573: 1}, 676: {857189: 1}, 677: {857189: 1}, 679: {13639330: 1}, 68: {21295300: 1}, 680: {9315213: 1}, 681: {9315213: 1}, 682: {9315213: 1}, 683: {9315213: 1}, 685: {4452659: 1}, 686: {4452659: 1}, 687: {4452659: 1}, 688: {4452659: 1}, 689: {22080671: 1}, 69: {5956380: 1, 4414547: 1}, 694: {1071991: 1}, 696: {16355392: 1}, 698: {22544171: 1}, 703: {4350400: 1}, 704: {14658685: 1}, 705: {22442133: 1}, 709: {22442133: 1}, 71: {1127562: 1}, 710: {22442133: 1}, 713: {18421962: 1}, 714: {18421962: 1}, 717: {17587795: 1}, 724: {5531479: 1}, 726: {7521113: 1, 36444198: 1}, 73: {6076903: 1}, 730: {13400643: 1}, 732: {34469966: 1}, 733: {34469966: 1}, 734: {4961038: 1}, 736: {5389095: 1}, 737: {16562534: 1, 6609935: 1}, 738: {16562534: 1, 6609935: 1, 33912020: 1}, 739: {4446814: 1}, 74: {4387784: 1}, 740: {23078022: 1}, 745: {11291348: 1}, 746: {11291348: 1}, 747: {11291348: 1}, 748: {11291348: 1}, 749: {13868795: 1}, 751: {19800147: 1}, 752: {19800147: 1}, 753: {1173667: 1}, 755: {17844478: 1}, 757: {17123657: 1}, 758: {14195528: 1}, 76: {5531479: 1}, 760: {1805641: 1}, 761: {10009203: 1}, 762: {4695046: 1}, 764: {7552215: 1}, 765: {7552215: 1}, 766: {7552215: 1}, 767: {2488880: 1}, 77: {5531479: 1}, 771: {15476777: 1}, 772: {24922825: 1}, 774: {32275758: 1}, 776: {32275758: 1}, 777: {32275758: 1}, 778: {13001323: 1}, 779: {13001323: 1}, 78: {5099266: 1}, 780: {8246922: 1, 24338780: 1}, 782: {8246922: 1}, 787: {4740447: 1}, 788: {4740447: 1}, 789: {15493354: 1}, 79: {5099266: 1}, 790: {15493354: 1}, 791: {15984735: 1}, 792: {3610080: 1}, 795: {8551160: 1}, 797: {8551160: 1}, 798: {8551160: 1}, 799: {5293024: 1}, 80: {4920376: 1}, 801: {22180793: 1}, 802: {22180793: 1}, 803: {22180793: 1}, 804: {22180793: 1}, 807: {36606083: 1}, 81: {1797622: 1}, 810: {13513790: 1}, 812: {19799455: 1}, 813: {33387953: 1}, 815: {8148304: 1}, 816: {8148304: 1}, 817: {17814815: 1}, 818: {17814815: 1}, 82: {3619372: 1}, 822: {15319019: 1}, 825: {15319019: 1}, 826: {4678846: 1}, 828: {4678846: 1}, 835: {15928989: 1}, 838: {15928989: 1}, 840: {15663829: 1}, 841: {15663829: 1}, 844: {17741440: 1}, 846: {22696649: 1}, 848: {14500725: 1}, 85: {7521113: 1, 22406695: 1}, 853: {24922825: 1}, 854: {12206390: 1}, 855: {8190282: 1}, 856: {43334921: 1}, 857: {43334921: 1}, 858: {1982286: 1}, 86: {7521113: 1, 22406695: 1}, 860: {16066726: 1}, 861: {16066726: 1}, 863: {20568364: 1, 16361581: 1}, 866: {37822406: 1}, 867: {14340571: 1}, 871: {195689316: 1}, 876: {195689316: 1}, 877: {313394: 1}, 88: {7521113: 1, 22406695: 1}, 881: {14803797: 1}, 883: {14803797: 1}, 884: {14803797: 1}, 885: {6477536: 1}, 886: {6477536: 1}, 89: {7521113: 1, 22406695: 1}, 890: {2097256: 1}, 891: {2097256: 1}, 893: {13509809: 1}, 894: {14724693: 1}, 895: {18750453: 1}, 896: {14338915: 1}, 897: {14338915: 1}, 898: {13106686: 1, 5572127: 1}, 899: {13106686: 1, 5572127: 1}, 9: {44265107: 1}, 90: {22406695: 1}, 900: {18678095: 1}, 901: {6540064: 1}, 902: {10648422: 1}, 908: {6923961: 1}, 909: {11254556: 1}, 91: {1084345: 1}, 910: {11254556: 1}, 912: {11254556: 1}, 916: {18037805: 1}, 917: {34071621: 1}, 919: {16422880: 1}, 92: {1084345: 1}, 923: {17077004: 1}, 925: {17077004: 1}, 926: {16390264: 1}, 927: {16390264: 1}, 928: {18174210: 1}, 929: {18174210: 1}, 93: {2692522: 1}, 930: {16056514: 1}, 933: {14711483: 1}, 934: {8563659: 1}, 935: {5483793: 1}, 938: {26231129: 1}, 939: {26231129: 1}, 940: {12258338: 1}, 941: {12258338: 1}, 942: {11527199: 1}, 944: {1642727: 1}, 945: {8428935: 1, 26112696: 1, 4463588: 1, 13083189: 1}, 946: {8428935: 1, 26112696: 1, 4463588: 1, 13083189: 1}, 949: {13578199: 1}, 95: {1215116: 1}, 951: {21414718: 1}, 952: {3355397: 1}, 953: {3355397: 1}, 954: {3355397: 1}, 955: {2078658: 1, 30507607: 1}, 959: {8780599: 1}, 96: {14500725: 1}, 962: {13931771: 1, 935538: 1, 4306711: 1}, 963: {4162857: 1, 29828242: 1}, 964: {4162857: 1, 29828242: 1}, 965: {40817021: 1}, 969: {19356271: 1, 17368516: 1}, 970: {19356271: 1, 17368516: 1}, 972: {46695481: 1, 27873158: 1, 28617573: 1, 9764256: 1}, 973: {27446873: 1, 27873158: 1, 28617573: 1, 9764256: 1}, 976: {5304891: 1}, 977: {14075252: 1, 39264456: 1}, 978: {14075252: 1}, 979: {11659421: 1}, 98: {6540064: 1}, 980: {20128547: 1}, 984: {6828370: 1}, 988: {3033830: 1}, 989: {9988425: 1}, 990: {16472469: 1}, 992: {16472469: 1}, 994: {16472469: 1}, 996: {16472469: 1}, 997: {16472469: 1}, 998: {16472469: 1}, 999: {16472469: 1}})"
      ]
     },
     "execution_count": 9,
     "metadata": {},
     "output_type": "execute_result"
    }
   ],
   "source": [
    "from ranx import Qrels\n",
    "from collections import defaultdict\n",
    "\n",
    "qrels_dict = defaultdict(dict)\n",
    "for entry in query_qrels:\n",
    "    query_id = str(entry[\"query-id\"])\n",
    "    doc_id = str(entry[\"corpus-id\"])\n",
    "    qrels_dict[query_id][doc_id] = entry[\"score\"]\n",
    "\n",
    "qrels = Qrels(qrels_dict, name=\"scifact\")\n",
    "qrels"
   ]
  },
  {
   "cell_type": "markdown",
   "id": "ef3eecd7-d8ad-49d0-b9ea-48dd5dcc2d6e",
   "metadata": {},
   "source": [
    "## Precalculating the embeddings\n",
    "\n",
    "We'll test various hybrid pipelines, so it is a good idea to precompute all the query vectors beforehand."
   ]
  },
  {
   "cell_type": "code",
   "execution_count": 10,
   "id": "a4780b98-5721-4869-8dd1-1a2fa7b1343e",
   "metadata": {},
   "outputs": [
    {
     "name": "stderr",
     "output_type": "stream",
     "text": [
      "100%|███████████████████████████████████████████████████████████████████████████████████████████████████████████████████████████████████████████████████████████████████████████████████████████| 1109/1109 [01:22<00:00, 13.38it/s]\n"
     ]
    }
   ],
   "source": [
    "import tqdm\n",
    "\n",
    "dense_vectors, sparse_vectors, late_vectors = [], [], []\n",
    "for query in tqdm.tqdm(queries):\n",
    "    dense_query_vector = next(dense_embedding_model.query_embed(query[\"text\"]))\n",
    "    sparse_query_vector = next(bm25_embedding_model.query_embed(query[\"text\"]))\n",
    "    late_query_vector = next(late_interaction_embedding_model.query_embed(query[\"text\"]))\n",
    "\n",
    "    dense_vectors.append(dense_query_vector)\n",
    "    sparse_vectors.append(sparse_query_vector)\n",
    "    late_vectors.append(late_query_vector)"
   ]
  },
  {
   "cell_type": "markdown",
   "id": "f3a69d753e287941",
   "metadata": {},
   "source": [
    "## Testing various search pipelines\n",
    "\n",
    "The ground truth dataset is ready, so we can start with calculating the effectiveness of each of our search methods separately."
   ]
  },
  {
   "cell_type": "markdown",
   "id": "daa68693-3af9-4cf1-8177-971ed35f6a15",
   "metadata": {},
   "source": [
    "### Dense embeddings"
   ]
  },
  {
   "cell_type": "code",
   "execution_count": 11,
   "id": "f1a6612b06d18969",
   "metadata": {},
   "outputs": [],
   "source": [
    "from ranx import Run\n",
    "\n",
    "run_dict = {}\n",
    "for query_idx, query in enumerate(queries):\n",
    "    query_id = str(query[\"_id\"])\n",
    "    \n",
    "    query_vector = dense_vectors[query_idx]\n",
    "    \n",
    "    results = client.query_points(\n",
    "        \"scifact\",\n",
    "        query=query_vector,\n",
    "        using=\"all-MiniLM-L6-v2\",\n",
    "        with_payload=False,\n",
    "        limit=10,\n",
    "    )\n",
    "    \n",
    "    run_dict[query_id] = {\n",
    "        str(point.id): point.score\n",
    "        for point in results.points\n",
    "    }\n",
    "    \n",
    "dense_run = Run(run_dict, name=\"all-MiniLM-L6-v2\")"
   ]
  },
  {
   "cell_type": "code",
   "execution_count": 12,
   "id": "69cc1517ccb95af4",
   "metadata": {},
   "outputs": [
    {
     "data": {
      "text/plain": [
       "{'precision@10': 0.08899876390605686, 'mrr@10': 0.6196303490493849}"
      ]
     },
     "execution_count": 12,
     "metadata": {},
     "output_type": "execute_result"
    }
   ],
   "source": [
    "from ranx import evaluate\n",
    "\n",
    "evaluate(qrels, dense_run, metrics=[\"precision@10\", \"mrr@10\"], make_comparable=True)"
   ]
  },
  {
   "cell_type": "markdown",
   "id": "0d70bb18-3719-437f-82c4-28ec0f7b6c0d",
   "metadata": {},
   "source": [
    "### Sparse embeddings"
   ]
  },
  {
   "cell_type": "code",
   "execution_count": 13,
   "id": "e720df26-6263-47a6-bbe2-268d40eeda3f",
   "metadata": {},
   "outputs": [
    {
     "data": {
      "text/plain": [
       "{'precision@10': 0.07935723114956736, 'mrr@10': 0.5752084682245374}"
      ]
     },
     "execution_count": 13,
     "metadata": {},
     "output_type": "execute_result"
    }
   ],
   "source": [
    "run_dict = {}\n",
    "for query_idx, query in enumerate(queries):\n",
    "    query_id = str(query[\"_id\"])\n",
    "    \n",
    "    query_vector = sparse_vectors[query_idx]\n",
    "    \n",
    "    results = client.query_points(\n",
    "        \"scifact\",\n",
    "        query=models.SparseVector(**query_vector.as_object()),\n",
    "        using=\"bm25\",\n",
    "        with_payload=False,\n",
    "        limit=10,\n",
    "    )\n",
    "    \n",
    "    run_dict[query_id] = {\n",
    "        str(point.id): point.score\n",
    "        for point in results.points\n",
    "    }\n",
    "    \n",
    "bm25_run = Run(run_dict, name=\"bm25\")\n",
    "evaluate(qrels, bm25_run, metrics=[\"precision@10\", \"mrr@10\"], make_comparable=True)"
   ]
  },
  {
   "cell_type": "markdown",
   "id": "05b625b8-fe80-41f0-9c2e-b09f2cbb3bfe",
   "metadata": {},
   "source": [
    "### Late interaction model"
   ]
  },
  {
   "cell_type": "code",
   "execution_count": 14,
   "id": "d4ac6dca-48bb-4637-b149-754c472848d6",
   "metadata": {},
   "outputs": [
    {
     "data": {
      "text/plain": [
       "{'precision@10': 0.09023485784919653, 'mrr@10': 0.6650636686483411}"
      ]
     },
     "execution_count": 14,
     "metadata": {},
     "output_type": "execute_result"
    }
   ],
   "source": [
    "run_dict = {}\n",
    "for query_idx, query in enumerate(queries):\n",
    "    query_id = str(query[\"_id\"])\n",
    "    \n",
    "    query_vector = late_vectors[query_idx]\n",
    "    \n",
    "    results = client.query_points(\n",
    "        \"scifact\",\n",
    "        query=query_vector,\n",
    "        using=\"colbertv2.0\",\n",
    "        with_payload=False,\n",
    "        limit=10,\n",
    "    )\n",
    "    \n",
    "    run_dict[query_id] = {\n",
    "        str(point.id): point.score\n",
    "        for point in results.points\n",
    "    }\n",
    "    \n",
    "colbert_run = Run(run_dict, name=\"colbert\")\n",
    "evaluate(qrels, colbert_run, metrics=[\"precision@10\", \"mrr@10\"], make_comparable=True)"
   ]
  },
  {
   "cell_type": "markdown",
   "id": "e602a901-6b1f-49e5-b535-2f4ad680812a",
   "metadata": {},
   "source": [
    "Late interaction model is the slowest option out there. That's why it's usually used as a reranking component, not a standalone mechanism."
   ]
  },
  {
   "cell_type": "markdown",
   "id": "0e6f42b3-d9e3-4964-82f9-42080f8eb853",
   "metadata": {},
   "source": [
    "### Reciprocal Rank Fusion"
   ]
  },
  {
   "cell_type": "markdown",
   "id": "ba38d1df-8e8e-4170-a951-53e71fab5f4a",
   "metadata": {},
   "source": [
    "### Dense & sparse only"
   ]
  },
  {
   "cell_type": "code",
   "execution_count": 15,
   "id": "6d48c1c9-39bc-4c05-a589-d8dbb18d76b3",
   "metadata": {},
   "outputs": [
    {
     "data": {
      "text/plain": [
       "{'precision@10': 0.0903584672435105, 'mrr@10': 0.6509211842957208}"
      ]
     },
     "execution_count": 15,
     "metadata": {},
     "output_type": "execute_result"
    }
   ],
   "source": [
    "run_dict = {}\n",
    "for query_idx, query in enumerate(queries):\n",
    "    query_id = str(query[\"_id\"])\n",
    "\n",
    "    dense_query_vector = dense_vectors[query_idx]\n",
    "    sparse_query_vector = sparse_vectors[query_idx]\n",
    "\n",
    "    prefetch = [\n",
    "        models.Prefetch(\n",
    "            query=dense_query_vector,\n",
    "            using=\"all-MiniLM-L6-v2\",\n",
    "            limit=20,\n",
    "        ),\n",
    "        models.Prefetch(\n",
    "            query=models.SparseVector(**sparse_query_vector.as_object()),\n",
    "            using=\"bm25\",\n",
    "            limit=20,\n",
    "        ),\n",
    "    ]\n",
    "    results = client.query_points(\n",
    "        \"scifact\",\n",
    "        prefetch=prefetch,\n",
    "        query=models.FusionQuery(\n",
    "            fusion=models.Fusion.RRF,\n",
    "        ),\n",
    "        with_payload=False,\n",
    "        limit=10,\n",
    "    )\n",
    "    \n",
    "    run_dict[query_id] = {\n",
    "        str(point.id): point.score\n",
    "        for point in results.points\n",
    "    }\n",
    "    \n",
    "rrf_run = Run(run_dict, name=\"rrf\")\n",
    "evaluate(qrels, rrf_run, metrics=[\"precision@10\", \"mrr@10\"], make_comparable=True)"
   ]
  },
  {
   "cell_type": "markdown",
   "id": "61a8df89-44dc-4cc3-89e3-64b97f27c15e",
   "metadata": {},
   "source": [
    "### All the methods in parallel"
   ]
  },
  {
   "cell_type": "code",
   "execution_count": 16,
   "id": "f57de47b-c501-4818-a76e-fcdf2cfa3aea",
   "metadata": {},
   "outputs": [
    {
     "data": {
      "text/plain": [
       "{'precision@10': 0.09406674907292954, 'mrr@10': 0.692256754370475}"
      ]
     },
     "execution_count": 16,
     "metadata": {},
     "output_type": "execute_result"
    }
   ],
   "source": [
    "run_dict = {}\n",
    "for query_idx, query in enumerate(queries):\n",
    "    query_id = str(query[\"_id\"])\n",
    "\n",
    "    dense_query_vector = dense_vectors[query_idx]\n",
    "    sparse_query_vector = sparse_vectors[query_idx]\n",
    "    late_query_vector = late_vectors[query_idx]\n",
    "\n",
    "    prefetch = [\n",
    "        models.Prefetch(\n",
    "            query=dense_query_vector,\n",
    "            using=\"all-MiniLM-L6-v2\",\n",
    "            limit=20,\n",
    "        ),\n",
    "        models.Prefetch(\n",
    "            query=models.SparseVector(**sparse_query_vector.as_object()),\n",
    "            using=\"bm25\",\n",
    "            limit=20,\n",
    "        ),\n",
    "        models.Prefetch(\n",
    "            query=late_query_vector,\n",
    "            using=\"colbertv2.0\",\n",
    "            limit=20,\n",
    "        ),\n",
    "    ]\n",
    "    results = client.query_points(\n",
    "        \"scifact\",\n",
    "        prefetch=prefetch,\n",
    "        query=models.FusionQuery(\n",
    "            fusion=models.Fusion.RRF,\n",
    "        ),\n",
    "        with_payload=False,\n",
    "        limit=10,\n",
    "    )\n",
    "    \n",
    "    run_dict[query_id] = {\n",
    "        str(point.id): point.score\n",
    "        for point in results.points\n",
    "    }\n",
    "    \n",
    "full_rrf_run = Run(run_dict, name=\"full_rrf\")\n",
    "evaluate(qrels, full_rrf_run, metrics=[\"precision@10\", \"mrr@10\"], make_comparable=True)"
   ]
  },
  {
   "cell_type": "markdown",
   "id": "7fbfde18-89c8-4561-8897-f75e53767171",
   "metadata": {},
   "source": [
    "## Reranking with late interaction model"
   ]
  },
  {
   "cell_type": "code",
   "execution_count": 17,
   "id": "1a4caedb-3082-4c8a-abc3-03b3c6bc72d6",
   "metadata": {},
   "outputs": [
    {
     "data": {
      "text/plain": [
       "{'precision@10': 0.09245982694684794, 'mrr@10': 0.6767373987089687}"
      ]
     },
     "execution_count": 17,
     "metadata": {},
     "output_type": "execute_result"
    }
   ],
   "source": [
    "run_dict = {}\n",
    "for query_idx, query in enumerate(queries):\n",
    "    query_id = str(query[\"_id\"])\n",
    "\n",
    "    dense_query_vector = dense_vectors[query_idx]\n",
    "    sparse_query_vector = sparse_vectors[query_idx]\n",
    "    late_query_vector = late_vectors[query_idx]\n",
    "\n",
    "    prefetch = [\n",
    "        models.Prefetch(\n",
    "            query=dense_query_vector,\n",
    "            using=\"all-MiniLM-L6-v2\",\n",
    "            limit=20,\n",
    "        ),\n",
    "        models.Prefetch(\n",
    "            query=models.SparseVector(**sparse_query_vector.as_object()),\n",
    "            using=\"bm25\",\n",
    "            limit=20,\n",
    "        ),\n",
    "    ]\n",
    "    results = client.query_points(\n",
    "        \"scifact\",\n",
    "        prefetch=prefetch,\n",
    "        query=late_query_vector,\n",
    "        using=\"colbertv2.0\",\n",
    "        with_payload=False,\n",
    "        limit=10,\n",
    "    )\n",
    "    \n",
    "    run_dict[query_id] = {\n",
    "        str(point.id): point.score\n",
    "        for point in results.points\n",
    "    }\n",
    "    \n",
    "reranking_run = Run(run_dict, name=\"reranking\")\n",
    "evaluate(qrels, reranking_run, metrics=[\"precision@10\", \"mrr@10\"], make_comparable=True)"
   ]
  },
  {
   "cell_type": "markdown",
   "id": "25d12948-0bab-491c-82d1-2cee09f10141",
   "metadata": {},
   "source": [
    "## Multistep retrieval process"
   ]
  },
  {
   "cell_type": "code",
   "execution_count": 18,
   "id": "e37e0628-ffde-4bb5-bdc6-d6065fc38918",
   "metadata": {},
   "outputs": [
    {
     "data": {
      "text/plain": [
       "{'precision@10': 0.08974042027194067, 'mrr@10': 0.6655247513096709}"
      ]
     },
     "execution_count": 18,
     "metadata": {},
     "output_type": "execute_result"
    }
   ],
   "source": [
    "run_dict = {}\n",
    "for query_idx, query in enumerate(queries):\n",
    "    query_id = str(query[\"_id\"])\n",
    "\n",
    "    dense_query_vector = dense_vectors[query_idx]\n",
    "    sparse_query_vector = sparse_vectors[query_idx]\n",
    "    late_query_vector = late_vectors[query_idx]\n",
    "\n",
    "    results = client.query_points(\n",
    "        \"scifact\",\n",
    "        prefetch=[\n",
    "            models.Prefetch(\n",
    "                prefetch=[\n",
    "                    models.Prefetch(\n",
    "                        query=dense_query_vector,\n",
    "                        using=\"all-MiniLM-L6-v2\",\n",
    "                        limit=100,\n",
    "                    )\n",
    "                ],\n",
    "                query=models.SparseVector(**sparse_query_vector.as_object()),\n",
    "                using=\"bm25\",\n",
    "                limit=50,\n",
    "            ),\n",
    "        ],\n",
    "        query=late_query_vector,\n",
    "        using=\"colbertv2.0\",\n",
    "        with_payload=False,\n",
    "        limit=10,\n",
    "    )\n",
    "    \n",
    "    run_dict[query_id] = {\n",
    "        str(point.id): point.score\n",
    "        for point in results.points\n",
    "    }\n",
    "    \n",
    "multistep_run = Run(run_dict, name=\"multistep\")\n",
    "evaluate(qrels, multistep_run, metrics=[\"precision@10\", \"mrr@10\"], make_comparable=True)"
   ]
  },
  {
   "cell_type": "code",
   "execution_count": 19,
   "id": "11359dae-a1c4-4f0e-a5b7-16e2bcbfe8be",
   "metadata": {},
   "outputs": [
    {
     "data": {
      "text/plain": [
       "#    Model             P@10        Recall@10    MRR@10      DCG@10      NDCG@10\n",
       "---  ----------------  ----------  -----------  ----------  ----------  -----------\n",
       "a    all-MiniLM-L6-v2  0.089ᵇ      0.790ᵇ       0.620ᵇ      0.701ᵇ      0.655ᵇ\n",
       "b    bm25              0.079       0.710        0.575       0.640       0.605\n",
       "c    colbert           0.090ᵇ      0.802ᵇ       0.665ᵃᵇ     0.741ᵃᵇ     0.694ᵃᵇ\n",
       "d    rrf               0.090ᵇ      0.804ᵇ       0.651ᵃᵇ     0.728ᵃᵇ     0.684ᵃᵇ\n",
       "e    full_rrf          0.094ᵃᵇᶜᵈᵍ  0.834ᵃᵇᶜᵈᵍ   0.692ᵃᵇᶜᵈᵍ  0.771ᵃᵇᶜᵈᵍ  0.722ᵃᵇᶜᵈᶠᵍ\n",
       "f    reranking         0.092ᵃᵇᵍ    0.820ᵃᵇᵍ     0.677ᵃᵇᶜ    0.756ᵃᵇᶜᵈᵍ  0.707ᵃᵇᶜᵈᵍ\n",
       "g    multistep         0.090ᵇ      0.796ᵇ       0.666ᵃᵇ     0.741ᵃᵇ     0.693ᵃᵇ"
      ]
     },
     "execution_count": 19,
     "metadata": {},
     "output_type": "execute_result"
    }
   ],
   "source": [
    "from ranx import compare\n",
    "\n",
    "compare(\n",
    "    qrels=qrels,\n",
    "    runs=[\n",
    "        dense_run,\n",
    "        bm25_run,\n",
    "        colbert_run,\n",
    "        rrf_run,\n",
    "        full_rrf_run,\n",
    "        reranking_run,\n",
    "        multistep_run,\n",
    "    ],\n",
    "    metrics=[\"precision@10\", \"recall@10\", \"mrr@10\", \"dcg@10\", \"ndcg@10\"],\n",
    ")"
   ]
  },
  {
   "cell_type": "code",
   "execution_count": null,
   "id": "ecd4096c-6ab4-48ed-9305-f01f3e62a8eb",
   "metadata": {},
   "outputs": [],
   "source": []
  }
 ],
 "metadata": {
  "kernelspec": {
   "display_name": "Python 3 (ipykernel)",
   "language": "python",
   "name": "python3"
  },
  "language_info": {
   "codemirror_mode": {
    "name": "ipython",
    "version": 3
   },
   "file_extension": ".py",
   "mimetype": "text/x-python",
   "name": "python",
   "nbconvert_exporter": "python",
   "pygments_lexer": "ipython3",
   "version": "3.10.12"
  }
 },
 "nbformat": 4,
 "nbformat_minor": 5
}
